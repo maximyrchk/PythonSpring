{
 "cells": [
  {
   "cell_type": "code",
   "execution_count": 1,
   "metadata": {},
   "outputs": [],
   "source": [
    "import pandas as pd\n",
    "import seaborn as sb"
   ]
  },
  {
   "cell_type": "code",
   "execution_count": 4,
   "metadata": {},
   "outputs": [],
   "source": [
    "DATA_FILE = \"C:\\\\Users\\\\max98\\\\Desktop\\\\PythonSpring\\\\water\\\\data\\\\2008-2017_16052018_2.csv\"\n",
    "df = pd.read_csv(DATA_FILE, sep = ';', encoding = 'cp1251')"
   ]
  },
  {
   "cell_type": "code",
   "execution_count": 5,
   "metadata": {},
   "outputs": [
    {
     "name": "stdout",
     "output_type": "stream",
     "text": [
      "<class 'pandas.core.frame.DataFrame'>\n",
      "RangeIndex: 23585 entries, 0 to 23584\n",
      "Data columns (total 18 columns):\n",
      "id                   23585 non-null int64\n",
      "station_name         23585 non-null object\n",
      "station_code         23585 non-null object\n",
      "river_basin_name     23585 non-null object\n",
      "laboratory_name      23394 non-null object\n",
      "latitude             23585 non-null object\n",
      "longitude            23585 non-null object\n",
      "date                 23585 non-null object\n",
      "nitrogen             1018 non-null object\n",
      "bsk5                 23341 non-null object\n",
      "zavysli_rechovyny    23385 non-null object\n",
      "oxigen_in_water      23314 non-null object\n",
      "sulfat               23401 non-null object\n",
      "chloride             23418 non-null object\n",
      "amonii               23525 non-null object\n",
      "nitrat               23424 non-null object\n",
      "nitryt               23430 non-null object\n",
      "phoshat              23423 non-null object\n",
      "dtypes: int64(1), object(17)\n",
      "memory usage: 3.2+ MB\n"
     ]
    }
   ],
   "source": [
    "df.info()"
   ]
  },
  {
   "cell_type": "code",
   "execution_count": 7,
   "metadata": {},
   "outputs": [
    {
     "data": {
      "text/plain": [
       "23585"
      ]
     },
     "execution_count": 7,
     "metadata": {},
     "output_type": "execute_result"
    }
   ],
   "source": [
    "len(df)"
   ]
  },
  {
   "cell_type": "code",
   "execution_count": null,
   "metadata": {},
   "outputs": [],
   "source": []
  }
 ],
 "metadata": {
  "kernelspec": {
   "display_name": "Python 3",
   "language": "python",
   "name": "python3"
  },
  "language_info": {
   "codemirror_mode": {
    "name": "ipython",
    "version": 3
   },
   "file_extension": ".py",
   "mimetype": "text/x-python",
   "name": "python",
   "nbconvert_exporter": "python",
   "pygments_lexer": "ipython3",
   "version": "3.7.2"
  }
 },
 "nbformat": 4,
 "nbformat_minor": 2
}
